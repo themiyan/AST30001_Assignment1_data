{
 "cells": [
  {
   "cell_type": "code",
   "execution_count": 1,
   "metadata": {
    "collapsed": true
   },
   "outputs": [],
   "source": [
    "%matplotlib inline\n",
    "import numpy as np\n",
    "import matplotlib.pyplot as plt\n",
    "from astropy.io import fits\n",
    "import string as s\n",
    "from matplotlib import rc\n",
    "rc('font',**{'family':'sans-serif','sans-serif':['Helvetica']})\n",
    "rc('text', usetex=True)"
   ]
  },
  {
   "cell_type": "code",
   "execution_count": 2,
   "metadata": {
    "collapsed": false
   },
   "outputs": [],
   "source": [
    "def open_synthetic_spectra(file_name): \n",
    "    \"\"\"\n",
    "    Open the synthetic spectra. \n",
    "    The code will skip the first 3 lines of the file and read everything else. \n",
    "    If the last column of the file doesn't have the same number of columns as the \n",
    "    rest of the spectra (number of columns in the 4th row onwards),\n",
    "    the last line will be skipped. \n",
    "    \n",
    "    INPUT: \n",
    "        file_name: file name of the synthetic spectra with extension\n",
    "    \n",
    "    RETURN: \n",
    "        synthetic_wavelength, synthetic_flux: sythetic spectra wavelength, flux\n",
    "    \n",
    "\n",
    "    \"\"\"\n",
    "    \n",
    "    \n",
    "    line = open(file_name, \"r\").readlines()[2]\n",
    "\n",
    "    params = np.asarray(s.split(line,' '))\n",
    "    params = np.asarray(params[np.asarray(params)!=''], dtype='float')\n",
    "\n",
    "    min_wave   = params[0]\n",
    "    max_wave   = params[1]\n",
    "    delta_wave = params[2]\n",
    "    \n",
    "    synthetic_flux       = np.genfromtxt(file_name, skip_header=3, invalid_raise=False)\n",
    "    synthetic_flux       = 1-(synthetic_flux.flatten())\n",
    "    synthetic_wavelength = np.arange(min_wave, max_wave, delta_wave)\n",
    "\n",
    "    \n",
    "    return synthetic_wavelength, synthetic_flux\n",
    "\n",
    "\n",
    "def open_observed_spectra(file_name):\n",
    "    \"\"\"\n",
    "    Open the observed spectra from fits format. \n",
    "    \n",
    "    The wavelength is computed using fits header information. \n",
    "\n",
    "    wavelength = ((x_pixel_number + 1.0) - CRPIX1) * CDELT1 + CRVAL1 \n",
    "\n",
    "    INPUT: \n",
    "        file_name: file name of the observed spectra with extension\n",
    "    \n",
    "    RETURN: \n",
    "        observed_wave, observed_flux: observed spectra wavelength, flux\n",
    "    \n",
    "    \n",
    "    \"\"\"\n",
    "    \n",
    "    observed_fits = fits.open(file_name)\n",
    "    \n",
    "    observed_flux   = observed_fits[0].data\n",
    "    observed_header = observed_fits[0].header \n",
    "    \n",
    "    observed_wave   = ((np.arange(len(observed_flux)) + 1.0) - observed_header['CRPIX1']) * observed_header['CDELT1'] + observed_header['CRVAL1'] \n",
    "    \n",
    "    return observed_wave, observed_flux\n",
    "    \n",
    "\n"
   ]
  },
  {
   "cell_type": "code",
   "execution_count": 3,
   "metadata": {
    "collapsed": true
   },
   "outputs": [],
   "source": [
    "def redshift_correction(wavelength, velocity):\n",
    "    \"\"\"\n",
    "    Corrects the observed spectra for radial velocities\n",
    "    \n",
    "    INPUT: \n",
    "        wavelength: the observed wavelength of the spectra\n",
    "        velocity: the radial velocity of the star in km/s\n",
    "        \n",
    "    RETURN: \n",
    "        wave_reast: the wavelength corrected for radial velocity of the star\n",
    "    \n",
    "    \"\"\"\n",
    "    \n",
    "    c=3e5 #speed of light in Km/s\n",
    "    \n",
    "    wave_rest = wavelength/(1 + (velocity/c))\n",
    "    \n",
    "    return wave_rest\n",
    "    \n",
    "    "
   ]
  },
  {
   "cell_type": "code",
   "execution_count": 11,
   "metadata": {
    "collapsed": true
   },
   "outputs": [],
   "source": [
    "def plot_spectra(star_name,observed_wave, observed_flux, synthetic_wavelength, synthetic_flux, zoom_range=None):\n",
    "    \"\"\"\n",
    "    Plot the observed and synthesized spectra.\n",
    "    Saves the figure in the same directory as the code. \n",
    "    \n",
    "    INPUT: \n",
    "        star_name: Name of the star. The file name extension will be removed.\n",
    "        observed_wave, observed flux: observed wavelength and flux of the spectra\n",
    "        synthetic_wavelength, synthetic_flux: wavelength and flux of the synthesized spectra\n",
    "        \n",
    "    OPTIONAL: \n",
    "        zoom_range: the zoom pange of the plot. if set to None will use the min and max parameters\n",
    "                    from the synthetic spectra for the x axis. y axis is set for 0.05 to 1.05. \n",
    "                    defined as zoom_range=[xmin, xmax, ymin,ymax]\n",
    "                    \n",
    "    RETURN: None\n",
    "    \n",
    "    \n",
    "    \"\"\"\n",
    "    \n",
    "    star_name= s.split(star_name, sep='.')[0]\n",
    "    \n",
    "    fig, ax = plt.subplots(figsize=(10,4))\n",
    "\n",
    "    ax.step(observed_wave, observed_flux, color='navy', label=r'Observed spectra')\n",
    "\n",
    "    ax.step(synthetic_wavelength, synthetic_flux, color='deeppink', label=r'MOOG Synthetic spectra', alpha=0.5)\n",
    "\n",
    "    plt.title(r''+str(star_name), fontsize=20)\n",
    "    plt.xlabel(r'Wavelength (\\AA)', fontsize=15)\n",
    "    plt.ylabel(r'Flux (normalized)', fontsize=15)\n",
    "\n",
    "    plt.legend(loc='best', fontsize='large')\n",
    "\n",
    "    if zoom_range==None:\n",
    "        plt.xlim(np.min(synthetic_wavelength), np.max(synthetic_wavelength))\n",
    "        plt.ylim(0.05,1.05)\n",
    "    else:\n",
    "        plt.xlim(zoom_range[0], zoom_range[1])\n",
    "        plt.ylim(zoom_range[2], zoom_range[3])\n",
    "        \n",
    "        \n",
    "    plt.savefig('obs_syn_comp_'+str(star_name)+'.png', dpi=400)\n",
    "    \n",
    "    print \"Figure saved to disk\" \n",
    "\n",
    "    plt.close()\n",
    "\n",
    "    \n",
    "    \n",
    "    \n",
    "    \n",
    "    \n",
    "    "
   ]
  },
  {
   "cell_type": "code",
   "execution_count": 12,
   "metadata": {
    "collapsed": true
   },
   "outputs": [],
   "source": [
    "#enter the file names below. if the files are not in the same directory give the relative paths\n",
    "#enter the name of the star file\n",
    "star_name ='HD115444.fits'\n",
    "#enter the name of the synthetic spectra file\n",
    "syn_name='CH.out2'\n",
    "\n",
    "#enter the radial velocity of the star in km/s\n",
    "#REMEMBER: moving towards the Earth is +, moving away is -\n",
    "vr= -24.67\n",
    "\n",
    "\n",
    "\n",
    "#define zoom_range if you want to zoom in the plot to inspect features\n",
    "#should be defined in a python list as min and max of x first and then min and max of y\n",
    "#eg: \n",
    "#zoom_range=[xmin,xmax,ymin,ymax] \n",
    "#where xmin, xmax, ymin, ymax are integer/float values defined by the user \n",
    "zoom_range=None\n",
    "\n"
   ]
  },
  {
   "cell_type": "code",
   "execution_count": 13,
   "metadata": {
    "collapsed": false
   },
   "outputs": [],
   "source": [
    "def main():\n",
    "\n",
    "    syn_wave, syn_flux  = open_synthetic_spectra(syn_name)\n",
    "    obs_wave, obs_flux = open_observed_spectra(star_name)\n",
    "    \n",
    "    \n",
    "    obs_corrected_wave = redshift_correction(obs_wave,vr )\n",
    "    \n",
    "    plot_spectra(star_name, obs_wave, obs_flux, syn_wave, syn_flux, zoom_range=zoom_range)\n"
   ]
  },
  {
   "cell_type": "code",
   "execution_count": null,
   "metadata": {
    "collapsed": false
   },
   "outputs": [],
   "source": []
  },
  {
   "cell_type": "code",
   "execution_count": 14,
   "metadata": {
    "collapsed": false
   },
   "outputs": [
    {
     "name": "stdout",
     "output_type": "stream",
     "text": [
      "Figure saved to disk\n"
     ]
    }
   ],
   "source": [
    "if __name__ == '__main__':\n",
    "    \"\"\"Main entry point to the code\"\"\"\n",
    "    \n",
    "    main()\n",
    "    \n"
   ]
  },
  {
   "cell_type": "code",
   "execution_count": null,
   "metadata": {
    "collapsed": true
   },
   "outputs": [],
   "source": []
  },
  {
   "cell_type": "code",
   "execution_count": null,
   "metadata": {
    "collapsed": true
   },
   "outputs": [],
   "source": []
  }
 ],
 "metadata": {
  "anaconda-cloud": {},
  "kernelspec": {
   "display_name": "Python [Root]",
   "language": "python",
   "name": "Python [Root]"
  },
  "language_info": {
   "codemirror_mode": {
    "name": "ipython",
    "version": 2
   },
   "file_extension": ".py",
   "mimetype": "text/x-python",
   "name": "python",
   "nbconvert_exporter": "python",
   "pygments_lexer": "ipython2",
   "version": "2.7.12"
  }
 },
 "nbformat": 4,
 "nbformat_minor": 0
}
